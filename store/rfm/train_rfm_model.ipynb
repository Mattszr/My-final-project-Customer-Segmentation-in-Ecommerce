{
 "cells": [
  {
   "cell_type": "code",
   "execution_count": 5,
   "id": "6d998271",
   "metadata": {},
   "outputs": [
    {
     "name": "stdout",
     "output_type": "stream",
     "text": [
      "         recency  frequency     monetary\n",
      "segment                                 \n",
      "0            1.0   1.075013   244.607586\n",
      "1            1.0   5.153846  2690.118907\n",
      "2            1.0  12.736842  9316.373158\n",
      "3            1.0   1.717402  1100.914937\n",
      "RFM segmentation model successfully trained and saved.\n"
     ]
    }
   ],
   "source": [
    "import pandas as pd\n",
    "from sklearn.preprocessing import StandardScaler\n",
    "from sklearn.cluster import KMeans\n",
    "import joblib\n",
    "\n",
    "# 1. upload \n",
    "\n",
    "df = pd.read_csv('C:/Users/mehme/OneDrive/Desktop/w1991607_MehmetSezer_E.C/ecom/store/data/2019-Nov.csv', nrows=1_000_000, low_memory=False)\n",
    "df.dropna(inplace=True)\n",
    "df['event_time'] = pd.to_datetime(df['event_time'])\n",
    "\n",
    "# 2. just sale\n",
    "purchase_df = df[df['event_type'] == 'purchase']\n",
    "\n",
    "# 3. RFM\n",
    "snapshot_date = purchase_df['event_time'].max() + pd.Timedelta(days=1)\n",
    "\n",
    "rfm = purchase_df.groupby('user_id').agg({\n",
    "    'event_time': lambda x: (snapshot_date - x.max()).days,  # Recency\n",
    "    'user_id': 'count',  # Frequency\n",
    "    'price': 'sum'       # Monetary\n",
    "}).rename(columns={\n",
    "    'event_time': 'recency',\n",
    "    'user_id': 'frequency',\n",
    "    'price': 'monetary'\n",
    "})\n",
    "\n",
    "# 4. scale\n",
    "scaler = StandardScaler()\n",
    "rfm_scaled = scaler.fit_transform(rfm)\n",
    "\n",
    "# 5. KMeans model segment\n",
    "kmeans = KMeans(n_clusters=4, random_state=42)\n",
    "rfm['segment'] = kmeans.fit_predict(rfm_scaled)\n",
    "\n",
    "# 6. saving the models\n",
    "joblib.dump(kmeans, 'models/rfm_kmeans.pkl')\n",
    "joblib.dump(scaler, 'models/rfm_scaler.pkl')\n",
    "\n",
    "# 7. output\n",
    "print(rfm.groupby('segment').mean())\n",
    "print(\"RFM segmentation model successfully trained and saved.\")\n"
   ]
  },
  {
   "cell_type": "code",
   "execution_count": null,
   "id": "0ccdf326",
   "metadata": {},
   "outputs": [],
   "source": []
  }
 ],
 "metadata": {
  "kernelspec": {
   "display_name": "Python 3 (ipykernel)",
   "language": "python",
   "name": "python3"
  },
  "language_info": {
   "codemirror_mode": {
    "name": "ipython",
    "version": 3
   },
   "file_extension": ".py",
   "mimetype": "text/x-python",
   "name": "python",
   "nbconvert_exporter": "python",
   "pygments_lexer": "ipython3",
   "version": "3.11.5"
  }
 },
 "nbformat": 4,
 "nbformat_minor": 5
}
